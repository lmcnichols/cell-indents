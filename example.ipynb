{
 "cells": [
  {
   "cell_type": "markdown",
   "metadata": {},
   "source": [
    "## Cell Indents can help organize your work."
   ]
  },
  {
   "cell_type": "markdown",
   "metadata": {
    "indent": "40"
   },
   "source": [
    "### 1. Imports"
   ]
  },
  {
   "cell_type": "code",
   "execution_count": 12,
   "metadata": {
    "indent": "60"
   },
   "outputs": [],
   "source": [
    "### import pandas as pd ###\n",
    "### import numpy as np ###"
   ]
  },
  {
   "cell_type": "markdown",
   "metadata": {
    "indent": "40"
   },
   "source": [
    "### 2. Format Data"
   ]
  },
  {
   "cell_type": "markdown",
   "metadata": {
    "indent": "80"
   },
   "source": [
    "#### a. Get rid of empty values"
   ]
  },
  {
   "cell_type": "code",
   "execution_count": 14,
   "metadata": {
    "indent": "100"
   },
   "outputs": [],
   "source": [
    "### some code ###"
   ]
  },
  {
   "cell_type": "markdown",
   "metadata": {
    "indent": "80"
   },
   "source": [
    "#### b. Append the extra time series to the dataset."
   ]
  },
  {
   "cell_type": "code",
   "execution_count": 15,
   "metadata": {
    "indent": "100"
   },
   "outputs": [],
   "source": [
    "### some more code ###"
   ]
  },
  {
   "cell_type": "markdown",
   "metadata": {
    "indent": "40"
   },
   "source": [
    "### 3. EDA"
   ]
  },
  {
   "cell_type": "markdown",
   "metadata": {
    "indent": "100"
   },
   "source": [
    "#### a. Plots"
   ]
  },
  {
   "cell_type": "code",
   "execution_count": 3,
   "metadata": {
    "indent": "120"
   },
   "outputs": [],
   "source": [
    "### code cells ###"
   ]
  },
  {
   "cell_type": "markdown",
   "metadata": {
    "indent": "100"
   },
   "source": [
    "#### b. Sample Statistics"
   ]
  },
  {
   "cell_type": "code",
   "execution_count": 16,
   "metadata": {
    "indent": "120"
   },
   "outputs": [],
   "source": [
    "### code cells ###"
   ]
  },
  {
   "cell_type": "markdown",
   "metadata": {
    "indent": "40"
   },
   "source": [
    "### 4. Hypothesis Testing"
   ]
  },
  {
   "cell_type": "code",
   "execution_count": 17,
   "metadata": {
    "indent": "60"
   },
   "outputs": [],
   "source": [
    "### code cells ###"
   ]
  },
  {
   "cell_type": "markdown",
   "metadata": {
    "indent": "80"
   },
   "source": [
    "#### Additional tests"
   ]
  },
  {
   "cell_type": "code",
   "execution_count": 20,
   "metadata": {
    "indent": "100"
   },
   "outputs": [],
   "source": [
    "### code cells ###"
   ]
  },
  {
   "cell_type": "code",
   "execution_count": null,
   "metadata": {},
   "outputs": [],
   "source": []
  }
 ],
 "metadata": {
  "kernelspec": {
   "display_name": "Python 3",
   "language": "python",
   "name": "python3"
  },
  "language_info": {
   "codemirror_mode": {
    "name": "ipython",
    "version": 3
   },
   "file_extension": ".py",
   "mimetype": "text/x-python",
   "name": "python",
   "nbconvert_exporter": "python",
   "pygments_lexer": "ipython3",
   "version": "3.8.2"
  }
 },
 "nbformat": 4,
 "nbformat_minor": 4
}
